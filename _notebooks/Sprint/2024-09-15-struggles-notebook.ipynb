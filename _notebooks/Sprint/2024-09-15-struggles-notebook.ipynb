{
 "cells": [
  {
   "cell_type": "markdown",
   "metadata": {},
   "source": [
    "---\n",
    "layout: post\n",
    "title: Struggles\n",
    "description: I struggled with many topics, yet I managed to overcome\n",
    "categories: [JavaScript]\n",
    "permalink: /struggle/\n",
    "---"
   ]
  },
  {
   "cell_type": "markdown",
   "metadata": {},
   "source": [
    "Struggles:\n",
    "At first I struggled with putting images in to my pages, like my F1 page and more. But as I used google to learn how to put images in markdown I learnt and was able to do it\n",
    "Also, initially, I didn't know how to link pages. As in create buttons that go to new pages which I needed for my new F1 page and Tools & Setup page. But with working with my group I learnt how to make new pages in markdown and link them to each other. \n",
    "Mario was a big struggle but also a learning process for my whole group as we worked on the movement of the marion gif which took two whole days but eventually worked perfectly.\n",
    "All in all, there were many things I struggled with but used them as learning opportunities to get better at CS."
   ]
  }
 ],
 "metadata": {
  "language_info": {
   "name": "python"
  }
 },
 "nbformat": 4,
 "nbformat_minor": 2
}
